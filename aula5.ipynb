{
 "cells": [
  {
   "cell_type": "code",
   "execution_count": 1,
   "id": "b6299b6b-1b54-465e-a24e-ca800c684c02",
   "metadata": {},
   "outputs": [
    {
     "name": "stdout",
     "output_type": "stream",
     "text": [
      "Hello World!\n"
     ]
    }
   ],
   "source": [
    "print ('Hello World!')"
   ]
  },
  {
   "cell_type": "code",
   "execution_count": 2,
   "id": "00016d87-a473-4fb8-a395-9db49ae5f19d",
   "metadata": {},
   "outputs": [
    {
     "data": {
      "text/plain": [
       "10"
      ]
     },
     "execution_count": 2,
     "metadata": {},
     "output_type": "execute_result"
    }
   ],
   "source": [
    "5+5"
   ]
  },
  {
   "cell_type": "code",
   "execution_count": 3,
   "id": "f613f998-2f82-45c4-9395-1cc07d5186b5",
   "metadata": {},
   "outputs": [],
   "source": [
    "nome = 'Marcos'"
   ]
  },
  {
   "cell_type": "code",
   "execution_count": 5,
   "id": "ecff3d7a-a166-4724-b7ba-7ab82f5e6559",
   "metadata": {},
   "outputs": [
    {
     "data": {
      "text/plain": [
       "'Marcos'"
      ]
     },
     "execution_count": 5,
     "metadata": {},
     "output_type": "execute_result"
    }
   ],
   "source": [
    "nome"
   ]
  },
  {
   "cell_type": "code",
   "execution_count": 6,
   "id": "8ae0f83f-ffec-435f-9d1a-9ad25e219dbe",
   "metadata": {},
   "outputs": [
    {
     "name": "stdout",
     "output_type": "stream",
     "text": [
      "Marcos\n"
     ]
    }
   ],
   "source": [
    "print (nome)"
   ]
  },
  {
   "cell_type": "code",
   "execution_count": 7,
   "id": "23b4c04c-7df3-4e74-bd22-df4321b984e5",
   "metadata": {},
   "outputs": [],
   "source": [
    "x = 345"
   ]
  },
  {
   "cell_type": "code",
   "execution_count": 10,
   "id": "4a04dcf8-cce0-489e-9f58-d75eb0c90d47",
   "metadata": {},
   "outputs": [],
   "source": [
    "y = x + 2"
   ]
  },
  {
   "cell_type": "code",
   "execution_count": 12,
   "id": "e1727a73-440b-4942-9554-85d87a2a05a9",
   "metadata": {},
   "outputs": [
    {
     "data": {
      "text/plain": [
       "347"
      ]
     },
     "execution_count": 12,
     "metadata": {},
     "output_type": "execute_result"
    }
   ],
   "source": [
    "y"
   ]
  },
  {
   "cell_type": "code",
   "execution_count": 13,
   "id": "440ff140-c91a-4103-8c0a-243e31382c0d",
   "metadata": {},
   "outputs": [],
   "source": [
    "a = 5"
   ]
  },
  {
   "cell_type": "code",
   "execution_count": 14,
   "id": "371725b9-6d4a-4d5c-8773-6abd37bc3f84",
   "metadata": {},
   "outputs": [
    {
     "data": {
      "text/plain": [
       "int"
      ]
     },
     "execution_count": 14,
     "metadata": {},
     "output_type": "execute_result"
    }
   ],
   "source": [
    "type (a)"
   ]
  },
  {
   "cell_type": "code",
   "execution_count": 16,
   "id": "54d63ee3-005e-4a04-b987-243804a0de72",
   "metadata": {},
   "outputs": [],
   "source": [
    "a = True"
   ]
  },
  {
   "cell_type": "code",
   "execution_count": 17,
   "id": "b950e953-8c77-46e0-a3c2-436c7a003cea",
   "metadata": {},
   "outputs": [
    {
     "data": {
      "text/plain": [
       "bool"
      ]
     },
     "execution_count": 17,
     "metadata": {},
     "output_type": "execute_result"
    }
   ],
   "source": [
    "type(a)"
   ]
  },
  {
   "cell_type": "code",
   "execution_count": 18,
   "id": "428533be-d9eb-4ad3-bd5c-1c80bef138b6",
   "metadata": {},
   "outputs": [],
   "source": [
    "a = 5.6"
   ]
  },
  {
   "cell_type": "code",
   "execution_count": 19,
   "id": "f6ea0503-7846-4dba-b1b9-6f8190ecdbe7",
   "metadata": {},
   "outputs": [
    {
     "data": {
      "text/plain": [
       "float"
      ]
     },
     "execution_count": 19,
     "metadata": {},
     "output_type": "execute_result"
    }
   ],
   "source": [
    "type (a)"
   ]
  },
  {
   "cell_type": "code",
   "execution_count": 20,
   "id": "2e286679-f095-4703-8185-3530c0608962",
   "metadata": {},
   "outputs": [],
   "source": [
    "x = 45\n",
    "y = 23"
   ]
  },
  {
   "cell_type": "code",
   "execution_count": 21,
   "id": "4b5d03b6-be74-47f4-8cb5-6eb49630c4a1",
   "metadata": {},
   "outputs": [
    {
     "data": {
      "text/plain": [
       "68"
      ]
     },
     "execution_count": 21,
     "metadata": {},
     "output_type": "execute_result"
    }
   ],
   "source": [
    "x + y"
   ]
  },
  {
   "cell_type": "code",
   "execution_count": 22,
   "id": "b9704f7b-cf13-424e-9afd-dc81b99e1321",
   "metadata": {},
   "outputs": [],
   "source": [
    "soma = x+y"
   ]
  },
  {
   "cell_type": "code",
   "execution_count": 23,
   "id": "13484a50-8648-4b4b-ae31-1ddea83a3427",
   "metadata": {},
   "outputs": [
    {
     "data": {
      "text/plain": [
       "int"
      ]
     },
     "execution_count": 23,
     "metadata": {},
     "output_type": "execute_result"
    }
   ],
   "source": [
    "type (soma)"
   ]
  },
  {
   "cell_type": "code",
   "execution_count": 25,
   "id": "d9e0d864-27c1-4919-9532-8361d1e46b45",
   "metadata": {},
   "outputs": [
    {
     "name": "stdout",
     "output_type": "stream",
     "text": [
      "68\n"
     ]
    }
   ],
   "source": [
    "print(soma)"
   ]
  },
  {
   "cell_type": "code",
   "execution_count": 26,
   "id": "df749fa6-dbe2-4e5d-b2d9-9cdc33c864dd",
   "metadata": {},
   "outputs": [
    {
     "data": {
      "text/plain": [
       "1.9565217391304348"
      ]
     },
     "execution_count": 26,
     "metadata": {},
     "output_type": "execute_result"
    }
   ],
   "source": [
    "x / y"
   ]
  },
  {
   "cell_type": "code",
   "execution_count": 27,
   "id": "70122f2c-bfec-46fa-b62f-ccc8014b2adf",
   "metadata": {},
   "outputs": [
    {
     "data": {
      "text/plain": [
       "1"
      ]
     },
     "execution_count": 27,
     "metadata": {},
     "output_type": "execute_result"
    }
   ],
   "source": [
    "x // y"
   ]
  },
  {
   "cell_type": "code",
   "execution_count": 28,
   "id": "ea6ea032-ce3e-41ba-8a04-06845358436d",
   "metadata": {},
   "outputs": [
    {
     "data": {
      "text/plain": [
       "22"
      ]
     },
     "execution_count": 28,
     "metadata": {},
     "output_type": "execute_result"
    }
   ],
   "source": [
    "x % y"
   ]
  },
  {
   "cell_type": "code",
   "execution_count": 29,
   "id": "006745fb-5a29-4e25-a09a-00792fb61fed",
   "metadata": {},
   "outputs": [],
   "source": [
    "r = 10_000_000_000"
   ]
  },
  {
   "cell_type": "code",
   "execution_count": 30,
   "id": "40118f2a-a7bb-4ac9-9580-81dcba276a06",
   "metadata": {},
   "outputs": [
    {
     "data": {
      "text/plain": [
       "10000000000"
      ]
     },
     "execution_count": 30,
     "metadata": {},
     "output_type": "execute_result"
    }
   ],
   "source": [
    "r"
   ]
  },
  {
   "cell_type": "code",
   "execution_count": 31,
   "id": "4895edc8-29fa-41ad-b88e-534b6557ec04",
   "metadata": {},
   "outputs": [
    {
     "data": {
      "text/plain": [
       "105654455657631171893227100372314453125"
      ]
     },
     "execution_count": 31,
     "metadata": {},
     "output_type": "execute_result"
    }
   ],
   "source": [
    "x ** y"
   ]
  },
  {
   "cell_type": "code",
   "execution_count": 32,
   "id": "b1230254-b21e-495c-ac1d-92ed612d7607",
   "metadata": {},
   "outputs": [],
   "source": [
    "y = 4.5"
   ]
  },
  {
   "cell_type": "code",
   "execution_count": 33,
   "id": "2ef1463c-badf-45a0-ba1d-1ea79811735b",
   "metadata": {},
   "outputs": [
    {
     "data": {
      "text/plain": [
       "float"
      ]
     },
     "execution_count": 33,
     "metadata": {},
     "output_type": "execute_result"
    }
   ],
   "source": [
    "type (y)"
   ]
  },
  {
   "cell_type": "code",
   "execution_count": 34,
   "id": "b75eed62-56db-4206-bb31-dcbf27ab2d53",
   "metadata": {},
   "outputs": [],
   "source": [
    "divisao = x / y"
   ]
  },
  {
   "cell_type": "code",
   "execution_count": 35,
   "id": "7c02a46a-ef93-42d3-8915-892ea83ed718",
   "metadata": {},
   "outputs": [
    {
     "data": {
      "text/plain": [
       "float"
      ]
     },
     "execution_count": 35,
     "metadata": {},
     "output_type": "execute_result"
    }
   ],
   "source": [
    "type (divisao)"
   ]
  },
  {
   "cell_type": "code",
   "execution_count": 36,
   "id": "2914a854-a51d-4b62-ade4-3ace2aebe23a",
   "metadata": {},
   "outputs": [
    {
     "name": "stdout",
     "output_type": "stream",
     "text": [
      "10.0\n"
     ]
    }
   ],
   "source": [
    "print (divisao)"
   ]
  },
  {
   "cell_type": "code",
   "execution_count": 37,
   "id": "c753004d-1e04-4ab9-8dbc-3846d99294a1",
   "metadata": {},
   "outputs": [
    {
     "data": {
      "text/plain": [
       "4"
      ]
     },
     "execution_count": 37,
     "metadata": {},
     "output_type": "execute_result"
    }
   ],
   "source": [
    "int(y)"
   ]
  },
  {
   "cell_type": "code",
   "execution_count": 38,
   "id": "7cd2e3d7-4e5f-4048-8543-cebe51674dcf",
   "metadata": {},
   "outputs": [],
   "source": [
    "x = True"
   ]
  },
  {
   "cell_type": "code",
   "execution_count": 39,
   "id": "e9b5d8ac-d648-4a72-8877-a158f87c981a",
   "metadata": {},
   "outputs": [
    {
     "data": {
      "text/plain": [
       "True"
      ]
     },
     "execution_count": 39,
     "metadata": {},
     "output_type": "execute_result"
    }
   ],
   "source": [
    "x"
   ]
  },
  {
   "cell_type": "code",
   "execution_count": 40,
   "id": "5f2ce044-c995-4ac5-b807-843f7c12c1d2",
   "metadata": {},
   "outputs": [],
   "source": [
    "y = False"
   ]
  },
  {
   "cell_type": "code",
   "execution_count": 41,
   "id": "a1fc9496-d4ee-4a00-bc7f-25e0260b65a1",
   "metadata": {},
   "outputs": [
    {
     "data": {
      "text/plain": [
       "False"
      ]
     },
     "execution_count": 41,
     "metadata": {},
     "output_type": "execute_result"
    }
   ],
   "source": [
    "x and y"
   ]
  },
  {
   "cell_type": "code",
   "execution_count": 42,
   "id": "02fbfd5f-16c5-4933-9657-e37783449196",
   "metadata": {},
   "outputs": [
    {
     "data": {
      "text/plain": [
       "True"
      ]
     },
     "execution_count": 42,
     "metadata": {},
     "output_type": "execute_result"
    }
   ],
   "source": [
    "x or y"
   ]
  },
  {
   "cell_type": "code",
   "execution_count": 43,
   "id": "ccfba919-a1e8-4c01-8014-94b802e0d41e",
   "metadata": {},
   "outputs": [
    {
     "data": {
      "text/plain": [
       "False"
      ]
     },
     "execution_count": 43,
     "metadata": {},
     "output_type": "execute_result"
    }
   ],
   "source": [
    "not x"
   ]
  },
  {
   "cell_type": "code",
   "execution_count": 44,
   "id": "9d2c9059-8b81-418f-8324-03621c995f46",
   "metadata": {},
   "outputs": [
    {
     "data": {
      "text/plain": [
       "'Marcos'"
      ]
     },
     "execution_count": 44,
     "metadata": {},
     "output_type": "execute_result"
    }
   ],
   "source": [
    "nome"
   ]
  },
  {
   "cell_type": "code",
   "execution_count": 45,
   "id": "ee2fbcb5-e808-4bfb-954e-031fff0a726d",
   "metadata": {},
   "outputs": [
    {
     "data": {
      "text/plain": [
       "str"
      ]
     },
     "execution_count": 45,
     "metadata": {},
     "output_type": "execute_result"
    }
   ],
   "source": [
    "type (nome)"
   ]
  },
  {
   "cell_type": "code",
   "execution_count": 49,
   "id": "ef18a8cc-8d0d-4661-bbfb-ba2966dad33e",
   "metadata": {},
   "outputs": [],
   "source": [
    "prenome = 'Leme'"
   ]
  },
  {
   "cell_type": "code",
   "execution_count": 52,
   "id": "68197b04-bb45-44da-8560-4bd0e6087aaa",
   "metadata": {},
   "outputs": [],
   "source": [
    "nome_completo = prenome + ' ' + nome"
   ]
  },
  {
   "cell_type": "code",
   "execution_count": 53,
   "id": "716ff9e2-4106-4d0c-a421-3e3a628b8755",
   "metadata": {},
   "outputs": [
    {
     "data": {
      "text/plain": [
       "'Leme Marcos'"
      ]
     },
     "execution_count": 53,
     "metadata": {},
     "output_type": "execute_result"
    }
   ],
   "source": [
    "nome_completo"
   ]
  },
  {
   "cell_type": "code",
   "execution_count": 54,
   "id": "ec2a72ca-8a10-41a3-96f1-8e1a0db86c7a",
   "metadata": {},
   "outputs": [
    {
     "data": {
      "text/plain": [
       "'MarcosMarcosMarcosMarcos'"
      ]
     },
     "execution_count": 54,
     "metadata": {},
     "output_type": "execute_result"
    }
   ],
   "source": [
    "nome * 4"
   ]
  },
  {
   "cell_type": "code",
   "execution_count": 55,
   "id": "1525cd40-29ec-4181-acc5-0f0a7a74ad66",
   "metadata": {},
   "outputs": [
    {
     "data": {
      "text/plain": [
       "'M'"
      ]
     },
     "execution_count": 55,
     "metadata": {},
     "output_type": "execute_result"
    }
   ],
   "source": [
    "nome [0]"
   ]
  },
  {
   "cell_type": "code",
   "execution_count": 56,
   "id": "7a23d26f-033f-430b-a7ee-9d39a9dc6702",
   "metadata": {},
   "outputs": [
    {
     "data": {
      "text/plain": [
       "'Ma'"
      ]
     },
     "execution_count": 56,
     "metadata": {},
     "output_type": "execute_result"
    }
   ],
   "source": [
    "nome[0:2]"
   ]
  },
  {
   "cell_type": "code",
   "execution_count": 57,
   "id": "ee8ffa32-e984-4570-a18b-20104e2d9a54",
   "metadata": {},
   "outputs": [
    {
     "data": {
      "text/plain": [
       "'A'"
      ]
     },
     "execution_count": 57,
     "metadata": {},
     "output_type": "execute_result"
    }
   ],
   "source": [
    "chr(65)"
   ]
  },
  {
   "cell_type": "code",
   "execution_count": 58,
   "id": "998412e7-c700-443d-88fa-1417cd2e7f2e",
   "metadata": {},
   "outputs": [
    {
     "data": {
      "text/plain": [
       "'a'"
      ]
     },
     "execution_count": 58,
     "metadata": {},
     "output_type": "execute_result"
    }
   ],
   "source": [
    "chr(97)"
   ]
  },
  {
   "cell_type": "code",
   "execution_count": 60,
   "id": "8298a45b-1e54-4324-a1d2-991246ae9e23",
   "metadata": {},
   "outputs": [
    {
     "data": {
      "text/plain": [
       "97"
      ]
     },
     "execution_count": 60,
     "metadata": {},
     "output_type": "execute_result"
    }
   ],
   "source": [
    "ord ('a')"
   ]
  },
  {
   "cell_type": "code",
   "execution_count": null,
   "id": "96123b04-5f28-4cff-8667-70aa0d13e8d7",
   "metadata": {},
   "outputs": [],
   "source": []
  }
 ],
 "metadata": {
  "kernelspec": {
   "display_name": "Python 3 (ipykernel)",
   "language": "python",
   "name": "python3"
  },
  "language_info": {
   "codemirror_mode": {
    "name": "ipython",
    "version": 3
   },
   "file_extension": ".py",
   "mimetype": "text/x-python",
   "name": "python",
   "nbconvert_exporter": "python",
   "pygments_lexer": "ipython3",
   "version": "3.12.4"
  }
 },
 "nbformat": 4,
 "nbformat_minor": 5
}
