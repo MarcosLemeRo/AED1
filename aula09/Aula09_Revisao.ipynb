{
 "cells": [
  {
   "cell_type": "markdown",
   "metadata": {},
   "source": [
    "![Algoritmos e Estrutura de Dados I](AED1_banner.jpg)"
   ]
  },
  {
   "cell_type": "markdown",
   "metadata": {},
   "source": [
    "## <font color='blue'>Algoritmos e Estrutura de Dados I</font>\n",
    "## <font color='blue'>Aula 9 -  Revisão</font>"
   ]
  },
  {
   "cell_type": "code",
   "execution_count": null,
   "metadata": {},
   "outputs": [],
   "source": [
    "# Versão da Linguagem Python\n",
    "from platform import python_version\n",
    "print('Versão da Linguagem Python Usada Neste Jupyter Notebook:', python_version())"
   ]
  },
  {
   "cell_type": "markdown",
   "metadata": {},
   "source": [
    "## Estrutura sequencial"
   ]
  },
  {
   "cell_type": "markdown",
   "metadata": {},
   "source": [
    "Escreva um programa em Python que solicite ao usuário o valor de dois números, calcule e exiba a soma deles."
   ]
  },
  {
   "cell_type": "code",
<<<<<<< HEAD
   "execution_count": 35,
   "metadata": {},
   "outputs": [
    {
     "name": "stdin",
     "output_type": "stream",
     "text": [
      "Informe o Primeiro numero:  1\n",
      "Informe o Segundo numero:  5\n"
     ]
    },
    {
     "name": "stdout",
     "output_type": "stream",
     "text": [
      "6.0\n"
     ]
    }
   ],
   "source": [
    "num1 = float(input(\"Informe o Primeiro numero: \"))\n",
    "num2 = float(input(\"Informe o Segundo numero: \"))\n",
    "\n",
    "print (num1 + num2)"
=======
   "execution_count": null,
   "metadata": {},
   "outputs": [],
   "source": [
    "\n"
>>>>>>> b78d4e27ef772e27698d47fd96118d6520ca56db
   ]
  },
  {
   "attachments": {},
   "cell_type": "markdown",
   "metadata": {},
   "source": [
    "Escreva um programa em Python que solicite ao usuário a temperatura em graus Celsius e converta para Fahrenheit. A fórmula para conversão é F = C * 9/5 + 32.\n"
   ]
  },
  {
   "cell_type": "code",
<<<<<<< HEAD
   "execution_count": 47,
   "metadata": {},
   "outputs": [
    {
     "name": "stdin",
     "output_type": "stream",
     "text": [
      "Informe a temperatura em celcius:  28\n"
     ]
    },
    {
     "name": "stdout",
     "output_type": "stream",
     "text": [
      "28.0 graus celcius corresponde a 82.4 graus Fahrenheit\n"
     ]
    }
   ],
   "source": [
    "celcius = float(input(\"Informe a temperatura em celcius: \"))\n",
    "\n",
    "fahr = ((celcius * 9)/5) + 32\n",
    "print (f\"{celcius} graus celcius corresponde a {fahr} graus Fahrenheit\" )\n"
=======
   "execution_count": null,
   "metadata": {},
   "outputs": [],
   "source": [
    "\n"
>>>>>>> b78d4e27ef772e27698d47fd96118d6520ca56db
   ]
  },
  {
   "cell_type": "markdown",
   "metadata": {},
   "source": [
    "## Estrutura Condicional"
   ]
  },
  {
   "cell_type": "markdown",
   "metadata": {},
   "source": [
    "Escreva um programa em Python que solicite ao usuário um número e verifique se ele é positivo, negativo ou zero. Exiba a mensagem correspondente.\n"
   ]
  },
  {
   "cell_type": "code",
<<<<<<< HEAD
   "execution_count": 53,
   "metadata": {},
   "outputs": [
    {
     "name": "stdin",
     "output_type": "stream",
     "text": [
      "Informe um número:  5\n"
     ]
    },
    {
     "name": "stdout",
     "output_type": "stream",
     "text": [
      "o numero 5.0 é positivo.\n"
     ]
    }
   ],
   "source": [
    "num = float(input(\"Informe um número: \"))\n",
    "if num > 0:\n",
    "    resultado = 'positivo'\n",
    "elif num < 0:\n",
    "    resultado = 'negativo'\n",
    "else:\n",
    "    resultado = 'zero'\n",
    "    \n",
    "print(f\"o numero {num} é {resultado}.\")\n",
    "\n"
   ]
=======
   "execution_count": null,
   "metadata": {},
   "outputs": [],
   "source": []
>>>>>>> b78d4e27ef772e27698d47fd96118d6520ca56db
  },
  {
   "cell_type": "markdown",
   "metadata": {},
   "source": [
    "Escreva um programa em Python que solicite ao usuário três números e determine qual é o maior entre eles.\n"
   ]
  },
  {
   "cell_type": "code",
<<<<<<< HEAD
   "execution_count": 58,
   "metadata": {},
   "outputs": [
    {
     "name": "stdin",
     "output_type": "stream",
     "text": [
      "Informe o primeiro número:  1\n",
      "Informe o segundo número:  1\n",
      "Informe o terceiro número:  5\n"
     ]
    },
    {
     "name": "stdout",
     "output_type": "stream",
     "text": [
      "O maior número digitado é: 5.0\n"
     ]
    }
   ],
   "source": [
    "\n",
    "num1 = float(input(\"Informe o primeiro número: \"))\n",
    "num2 = float(input(\"Informe o segundo número: \"))\n",
    "num3 = float(input(\"Informe o terceiro número: \"))\n",
    "\n",
    "\n",
    "maior = num1  \n",
    "\n",
    "if num2 > maior:\n",
    "    maior = num2\n",
    "if num3 > maior:\n",
    "    maior = num3\n",
    "\n",
    "print(f\"O maior número digitado é: {maior}\")\n",
=======
   "execution_count": null,
   "metadata": {},
   "outputs": [],
   "source": [
>>>>>>> b78d4e27ef772e27698d47fd96118d6520ca56db
    "\n"
   ]
  },
  {
   "cell_type": "markdown",
   "metadata": {},
   "source": [
    "## Estrutura de Repetição"
   ]
  },
  {
   "cell_type": "markdown",
   "metadata": {},
   "source": [
<<<<<<< HEAD
    "Escreva um programa em Python que solicite um numero inteiro positivo de 1 a 9(você tem que verificar se o usuário não digitou fora desse intervalo) e em seguida exiba a tabuada desse numero.\n"
=======
    "Escreva um programa em Python que exiba todos os números de 1 a 10.\n"
>>>>>>> b78d4e27ef772e27698d47fd96118d6520ca56db
   ]
  },
  {
   "cell_type": "code",
<<<<<<< HEAD
   "execution_count": 75,
   "metadata": {},
   "outputs": [
    {
     "name": "stdin",
     "output_type": "stream",
     "text": [
      "Digite um número inteiro positivo de 1 a 9:  6\n"
     ]
    },
    {
     "name": "stdout",
     "output_type": "stream",
     "text": [
      "6 x 1 = 6\n",
      "6 x 2 = 12\n",
      "6 x 3 = 18\n",
      "6 x 4 = 24\n",
      "6 x 5 = 30\n",
      "6 x 6 = 36\n",
      "6 x 7 = 42\n",
      "6 x 8 = 48\n",
      "6 x 9 = 54\n",
      "6 x 10 = 60\n"
     ]
    }
   ],
   "source": [
    "numero = 0\n",
    "while True:\n",
    "    numero = input(\"Digite um número inteiro positivo de 1 a 9: \")\n",
    "    \n",
    "    if numero.isnumeric() and 1 <= int(numero) <= 9:\n",
    "        numero = int(numero)\n",
    "        break\n",
    "    else:\n",
    "        print(F\"Entrada inválida ({numero}). Tente novamente.\")\n",
    "\n",
    "for i in range(1, 11):\n",
    "    resultado = numero * i\n",
    "    print(f\"{numero} x {i} = {resultado}\")\n",
    "\n",
    "\n",
    "\n",
=======
   "execution_count": null,
   "metadata": {},
   "outputs": [],
   "source": [
>>>>>>> b78d4e27ef772e27698d47fd96118d6520ca56db
    "\n"
   ]
  },
  {
   "cell_type": "markdown",
   "metadata": {},
   "source": [
    "Escreva um programa em Python que solicite ao usuário um número inteiro positivo e calcule o fatorial desse número.\n"
   ]
  },
  {
   "cell_type": "code",
<<<<<<< HEAD
   "execution_count": 91,
   "metadata": {},
   "outputs": [
    {
     "name": "stdin",
     "output_type": "stream",
     "text": [
      "Digite um número inteiro:  5\n"
     ]
    },
    {
     "name": "stdout",
     "output_type": "stream",
     "text": [
      "O fatorial de 5 é: 120\n"
     ]
    }
   ],
   "source": [
    "numero = 0\n",
    "while True:\n",
    "    numero = input(\"Digite um número inteiro: \")\n",
    "    \n",
    "    if numero.isnumeric() and 0 <= int(numero):\n",
    "        numero = int(numero)\n",
    "        break\n",
    "    else:\n",
    "        print(F\"Entrada inválida ({numero}). Tente novamente.\")\n",
    "\n",
    "\n",
    "fatorial = 1\n",
    "for i in range(1,numero + 1):\n",
    "    fatorial *= i\n",
    "\n",
    "print(f\"O fatorial de {numero} é: {fatorial}\")\n",
    "\n",
=======
   "execution_count": null,
   "metadata": {},
   "outputs": [],
   "source": [
>>>>>>> b78d4e27ef772e27698d47fd96118d6520ca56db
    "\n"
   ]
  },
  {
   "cell_type": "markdown",
   "metadata": {},
   "source": [
    "## Geral"
   ]
  },
  {
   "cell_type": "markdown",
   "metadata": {},
   "source": [
    "Você é um cientista de dados e precisa analisar as notas de um conjunto de estudantes em uma disciplina. Você deverá escrever um programa em Python que solicite ao usuário o número de estudantes e, em seguida, as notas desses estudantes. O programa deve calcular e exibir:\n",
    "\n",
    "- A média das notas.\n",
    "- A maior e a menor nota.\n",
    "- O número de estudantes aprovados (nota maior ou igual a 6) e reprovados (nota menor que 6).\n",
    "\n",
    "Regras:\n",
    "\n",
    "- Utilize variáveis simples para armazenar as informações.\n",
    "- Utilize estruturas de repetição para coletar as notas dos estudantes.\n",
    "- Utilize estruturas condicionais para determinar o status de aprovação dos estudantes."
   ]
  },
  {
   "cell_type": "code",
<<<<<<< HEAD
   "execution_count": 92,
   "metadata": {},
   "outputs": [
    {
     "name": "stdin",
     "output_type": "stream",
     "text": [
      "Informe o número de estudantes:  5\n",
      "Informe a nota do estudante 1:  10\n",
      "Informe a nota do estudante 2:  9.5\n",
      "Informe a nota do estudante 3:  5\n",
      "Informe a nota do estudante 4:  1.95\n",
      "Informe a nota do estudante 5:  4.95\n"
     ]
    },
    {
     "name": "stdout",
     "output_type": "stream",
     "text": [
      "Média das notas: 6.28\n",
      "Maior nota: 10.00\n",
      "Menor nota: 1.95\n",
      "Número de estudantes aprovados: 2\n",
      "Número de estudantes reprovados: 3\n"
     ]
    }
   ],
   "source": [
    "num_estudantes = int(input(\"Informe o número de estudantes: \"))\n",
    "\n",
    "notas = []\n",
    "aprovados = 0\n",
    "reprovados = 0\n",
    "\n",
    "for i in range(num_estudantes):\n",
    "    nota = float(input(f\"Informe a nota do estudante {i + 1}: \"))\n",
    "    notas.append(nota)\n",
    "    \n",
    "    if nota >= 6:\n",
    "        aprovados += 1\n",
    "    else:\n",
    "        reprovados += 1\n",
    "\n",
    "media = sum(notas) / num_estudantes\n",
    "\n",
    "maior_nota = max(notas)\n",
    "menor_nota = min(notas)\n",
    "\n",
    "print(f\"Média das notas: {media:.2f}\")\n",
    "print(f\"Maior nota: {maior_nota:.2f}\")\n",
    "print(f\"Menor nota: {menor_nota:.2f}\")\n",
    "print(f\"Número de estudantes aprovados: {aprovados}\")\n",
    "print(f\"Número de estudantes reprovados: {reprovados}\")\n",
    "\n",
=======
   "execution_count": null,
   "metadata": {},
   "outputs": [],
   "source": [
>>>>>>> b78d4e27ef772e27698d47fd96118d6520ca56db
    "\n"
   ]
  },
  {
   "cell_type": "markdown",
   "metadata": {},
   "source": [
    "Faça um programa que receba um número inteiro positivo e transforme esse número para binário."
   ]
  },
  {
   "cell_type": "code",
<<<<<<< HEAD
   "execution_count": 102,
   "metadata": {},
   "outputs": [
    {
     "name": "stdin",
     "output_type": "stream",
     "text": [
      "Digite um valor na base 10:  131\n"
     ]
    },
    {
     "name": "stdout",
     "output_type": "stream",
     "text": [
      "O número 131 em binário é: 10000011\n"
     ]
    }
   ],
   "source": [
    "numero = int(input(\"Digite um valor na base 10: \"))\n",
    "n = numero\n",
    "if numero < 0:\n",
    "    print(\"Por favor, insira um número inteiro positivo.\")\n",
    "else:\n",
    "    binario = \"\"\n",
    "    if numero == 0:\n",
    "        binario = \"0\"\n",
    "    else:\n",
    "        while numero > 0:\n",
    "            binario = str(numero % 2) + binario\n",
    "            numero //= 2\n",
    "\n",
    "    print(f\"O número {n} em binário é: {binario}\")\n"
   ]
=======
   "execution_count": null,
   "metadata": {},
   "outputs": [],
   "source": []
>>>>>>> b78d4e27ef772e27698d47fd96118d6520ca56db
  },
  {
   "cell_type": "markdown",
   "metadata": {},
   "source": [
    "## Fim da Aula 9"
   ]
  }
 ],
 "metadata": {
  "kernelspec": {
   "display_name": "Python 3 (ipykernel)",
   "language": "python",
   "name": "python3"
  },
  "language_info": {
   "codemirror_mode": {
    "name": "ipython",
    "version": 3
   },
   "file_extension": ".py",
   "mimetype": "text/x-python",
   "name": "python",
   "nbconvert_exporter": "python",
   "pygments_lexer": "ipython3",
<<<<<<< HEAD
   "version": "3.12.4"
=======
   "version": "3.11.8"
>>>>>>> b78d4e27ef772e27698d47fd96118d6520ca56db
  }
 },
 "nbformat": 4,
 "nbformat_minor": 4
}
